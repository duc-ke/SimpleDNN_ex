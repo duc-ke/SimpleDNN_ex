{
 "cells": [
  {
   "cell_type": "markdown",
   "metadata": {},
   "source": [
    "# PART 04. 작물 잎 사진으로 질병 분류하기"
   ]
  },
  {
   "cell_type": "markdown",
   "metadata": {},
   "source": [
    "## 데이터 분할"
   ]
  },
  {
   "cell_type": "markdown",
   "metadata": {},
   "source": [
    "* 데이터 분할을 위한 디렉토리 생성"
   ]
  },
  {
   "cell_type": "code",
   "execution_count": 13,
   "metadata": {},
   "outputs": [],
   "source": [
    "import cv2\n",
    "import numpy as np\n",
    "import matplotlib.pyplot as plt\n",
    "import time\n",
    "import copy\n",
    "\n",
    "def draw_img(img_np, cmap='color', size=None, ratio=None, title=None):\n",
    "    # cmap에 따라 컬러 or 흑백 이미지 그림\n",
    "    %matplotlib inline\n",
    "    \n",
    "    if type(img_np) != np.ndarray:\n",
    "        img_np = read_img_to_np(img_np, cmap=cmap)\n",
    "    \n",
    "    print(f\"shape: {img_np.shape}\")\n",
    "    \n",
    "    if size:\n",
    "        plt.figure(figsize=size)\n",
    "    elif ratio:\n",
    "        plt.figure(figsize=(8*ratio, 8*ratio))\n",
    "    else:\n",
    "        plt.figure()\n",
    "    \n",
    "    if title:\n",
    "        plt.title(title, fontsize=15)\n",
    "    \n",
    "    if len(img_np.shape) == 3:\n",
    "        plt.imshow(img_np)\n",
    "    else:\n",
    "        plt.imshow(img_np, cmap=\"gray\")\n",
    "    \n",
    "    plt.show()"
   ]
  },
  {
   "cell_type": "code",
   "execution_count": 2,
   "metadata": {},
   "outputs": [],
   "source": [
    "import os\n",
    "import shutil\n",
    " \n",
    "original_dataset_dir = './dataset/select_dataset'   \n",
    "classes_list = os.listdir(original_dataset_dir) \n",
    " \n",
    "base_dir = './splitted' \n",
    "if not os.path.exists(base_dir):\n",
    "    os.mkdir(base_dir)\n",
    "\n",
    "train_dir = os.path.join(base_dir, 'train') \n",
    "if not os.path.exists(train_dir):\n",
    "    os.mkdir(train_dir)\n",
    "validation_dir = os.path.join(base_dir, 'val')\n",
    "if not os.path.exists(validation_dir):\n",
    "    os.mkdir(validation_dir)\n",
    "test_dir = os.path.join(base_dir, 'test')\n",
    "if not os.path.exists(test_dir):\n",
    "    os.mkdir(test_dir)\n",
    "\n",
    "if not os.path.exists(base_dir):\n",
    "    for cls in classes_list:     \n",
    "        os.mkdir(os.path.join(train_dir, cls))\n",
    "        os.mkdir(os.path.join(validation_dir, cls))\n",
    "        os.mkdir(os.path.join(test_dir, cls))"
   ]
  },
  {
   "cell_type": "markdown",
   "metadata": {},
   "source": [
    "* 데이터 분할과 클래스별 데이터 수 확인"
   ]
  },
  {
   "cell_type": "code",
   "execution_count": 3,
   "metadata": {},
   "outputs": [
    {
     "name": "stdout",
     "output_type": "stream",
     "text": [
      "Train size( Tomato___Late_blight ):  600\n",
      "Validation size( Tomato___Late_blight ):  200\n",
      "Test size( Tomato___Late_blight ):  200\n",
      "Train size( Tomato___Tomato_Yellow_Leaf_Curl_Virus ):  600\n",
      "Validation size( Tomato___Tomato_Yellow_Leaf_Curl_Virus ):  200\n",
      "Test size( Tomato___Tomato_Yellow_Leaf_Curl_Virus ):  200\n",
      "Train size( Grape___Esca_(Black_Measles) ):  600\n",
      "Validation size( Grape___Esca_(Black_Measles) ):  200\n",
      "Test size( Grape___Esca_(Black_Measles) ):  200\n",
      "Train size( Potato___Late_blight ):  600\n",
      "Validation size( Potato___Late_blight ):  200\n",
      "Test size( Potato___Late_blight ):  200\n",
      "Train size( Strawberry___Leaf_scorch ):  600\n",
      "Validation size( Strawberry___Leaf_scorch ):  200\n",
      "Test size( Strawberry___Leaf_scorch ):  200\n",
      "Train size( Tomato___Early_blight ):  600\n",
      "Validation size( Tomato___Early_blight ):  200\n",
      "Test size( Tomato___Early_blight ):  200\n",
      "Train size( Corn___healthy ):  600\n",
      "Validation size( Corn___healthy ):  200\n",
      "Test size( Corn___healthy ):  200\n",
      "Train size( Potato___Early_blight ):  600\n",
      "Validation size( Potato___Early_blight ):  200\n",
      "Test size( Potato___Early_blight ):  200\n",
      "Train size( Pepper,_bell___healthy ):  600\n",
      "Validation size( Pepper,_bell___healthy ):  200\n",
      "Test size( Pepper,_bell___healthy ):  200\n",
      "Train size( Grape___Leaf_blight_(Isariopsis_Leaf_Spot) ):  600\n",
      "Validation size( Grape___Leaf_blight_(Isariopsis_Leaf_Spot) ):  200\n",
      "Test size( Grape___Leaf_blight_(Isariopsis_Leaf_Spot) ):  200\n"
     ]
    }
   ],
   "source": [
    "import math\n",
    " \n",
    "for cls in classes_list:\n",
    "    path = os.path.join(original_dataset_dir, cls)\n",
    "    fnames = os.listdir(path)\n",
    " \n",
    "    train_size = math.floor(len(fnames) * 0.6)\n",
    "    validation_size = math.floor(len(fnames) * 0.2)\n",
    "    test_size = math.floor(len(fnames) * 0.2)\n",
    "    \n",
    "    train_fnames = fnames[:train_size]\n",
    "    print(\"Train size(\",cls,\"): \", len(train_fnames))\n",
    "    for fname in train_fnames:\n",
    "        src = os.path.join(path, fname)\n",
    "        dst = os.path.join(os.path.join(train_dir, cls), fname)\n",
    "        shutil.copyfile(src, dst)\n",
    "        \n",
    "    validation_fnames = fnames[train_size:(validation_size + train_size)]\n",
    "    print(\"Validation size(\",cls,\"): \", len(validation_fnames))\n",
    "    for fname in validation_fnames:\n",
    "        src = os.path.join(path, fname)\n",
    "        dst = os.path.join(os.path.join(validation_dir, cls), fname)\n",
    "        shutil.copyfile(src, dst)\n",
    "        \n",
    "    test_fnames = fnames[(train_size+validation_size):(validation_size + train_size +test_size)]\n",
    "\n",
    "    print(\"Test size(\",cls,\"): \", len(test_fnames))\n",
    "    for fname in test_fnames:\n",
    "        src = os.path.join(path, fname)\n",
    "        dst = os.path.join(os.path.join(test_dir, cls), fname)\n",
    "        shutil.copyfile(src, dst)\n"
   ]
  },
  {
   "cell_type": "markdown",
   "metadata": {},
   "source": [
    "## 베이스라인 모델 학습"
   ]
  },
  {
   "cell_type": "markdown",
   "metadata": {},
   "source": [
    "* 베이스라인 모델 학습을 위한 준비"
   ]
  },
  {
   "cell_type": "code",
   "execution_count": 4,
   "metadata": {},
   "outputs": [],
   "source": [
    "import torch\n",
    "import os\n",
    " \n",
    "USE_CUDA = torch.cuda.is_available()\n",
    "DEVICE = torch.device(\"cuda\" if USE_CUDA else \"cpu\")\n",
    "BATCH_SIZE = 128  # 256 \n",
    "EPOCH = 30 \n",
    "IMG_RESIZE = 256    # 기본은 64였음\n",
    "TOTAL_CLASSES = 10"
   ]
  },
  {
   "cell_type": "code",
   "execution_count": 5,
   "metadata": {},
   "outputs": [
    {
     "data": {
      "text/plain": [
       "device(type='cuda')"
      ]
     },
     "execution_count": 5,
     "metadata": {},
     "output_type": "execute_result"
    }
   ],
   "source": [
    "DEVICE"
   ]
  },
  {
   "cell_type": "code",
   "execution_count": 6,
   "metadata": {},
   "outputs": [
    {
     "name": "stdout",
     "output_type": "stream",
     "text": [
      "train sample cnt: 6000\n",
      "val sample cnt: 2000\n"
     ]
    }
   ],
   "source": [
    "import torchvision.transforms as transforms\n",
    "from torchvision.datasets import ImageFolder \n",
    " \n",
    "transform_base = transforms.Compose([transforms.Resize((IMG_RESIZE,IMG_RESIZE)), transforms.ToTensor()]) \n",
    "train_dataset = ImageFolder(root='./splitted/train', transform=transform_base) \n",
    "val_dataset = ImageFolder(root='./splitted/val', transform=transform_base)\n",
    "\n",
    "print(\n",
    "    f\"train sample cnt: {len(train_dataset)}\\nval sample cnt: {len(val_dataset)}\"\n",
    ")"
   ]
  },
  {
   "cell_type": "code",
   "execution_count": 7,
   "metadata": {},
   "outputs": [
    {
     "data": {
      "text/plain": [
       "['Corn___healthy',\n",
       " 'Grape___Esca_(Black_Measles)',\n",
       " 'Grape___Leaf_blight_(Isariopsis_Leaf_Spot)',\n",
       " 'Pepper,_bell___healthy',\n",
       " 'Potato___Early_blight',\n",
       " 'Potato___Late_blight',\n",
       " 'Strawberry___Leaf_scorch',\n",
       " 'Tomato___Early_blight',\n",
       " 'Tomato___Late_blight',\n",
       " 'Tomato___Tomato_Yellow_Leaf_Curl_Virus']"
      ]
     },
     "execution_count": 7,
     "metadata": {},
     "output_type": "execute_result"
    }
   ],
   "source": [
    "train_dataset.classes"
   ]
  },
  {
   "cell_type": "code",
   "execution_count": 8,
   "metadata": {},
   "outputs": [
    {
     "name": "stdout",
     "output_type": "stream",
     "text": [
      "torch.Size([3, 256, 256]) 0\n",
      "shape: (256, 256, 3)\n"
     ]
    },
    {
     "data": {
      "image/png": "[encoded data removed]",
      "text/plain": [
       "<Figure size 432x288 with 1 Axes>"
      ]
     },
     "metadata": {
      "needs_background": "light"
     },
     "output_type": "display_data"
    }
   ],
   "source": [
    "# img, label sample 확인\n",
    "select_sample_idx = 0\n",
    "\n",
    "img_sample, label = train_dataset[select_sample_idx][0], train_dataset[select_sample_idx][1]\n",
    "print(img_sample.shape, label)\n",
    "img_sample = img_sample.permute(1, 2, 0)\n",
    "img_sample = np.array(img_sample)\n",
    "\n",
    "draw_img(img_sample, cmap='color', title = train_dataset.classes[label])"
   ]
  },
  {
   "cell_type": "code",
   "execution_count": null,
   "metadata": {},
   "outputs": [],
   "source": []
  },
  {
   "cell_type": "code",
   "execution_count": 9,
   "metadata": {},
   "outputs": [],
   "source": [
    "from torch.utils.data import DataLoader\n",
    "\n",
    "train_loader = torch.utils.data.DataLoader(train_dataset, batch_size=BATCH_SIZE, shuffle=True, num_workers=4)\n",
    "val_loader = torch.utils.data.DataLoader(val_dataset, batch_size=BATCH_SIZE, shuffle=True, num_workers=4)"
   ]
  },
  {
   "cell_type": "markdown",
   "metadata": {},
   "source": [
    "* 베이스라인 모델 설계\n",
    "  * 3 Conv layers custom model."
   ]
  },
  {
   "cell_type": "code",
   "execution_count": 10,
   "metadata": {},
   "outputs": [],
   "source": [
    "import torch.nn as nn\n",
    "import torch.nn.functional as F\n",
    "import torch.optim as optim\n",
    " \n",
    "class Net(nn.Module): \n",
    "  \n",
    "    def __init__(self): \n",
    "    \n",
    "        super(Net, self).__init__() \n",
    "\n",
    "        self.conv1 = nn.Conv2d(3, 32, 3, padding=1) \n",
    "        self.pool = nn.MaxPool2d(2,2)  \n",
    "        self.conv2 = nn.Conv2d(32, 64, 3, padding=1)  \n",
    "        self.conv3 = nn.Conv2d(64, 64, 3, padding=1)  \n",
    "\n",
    "        self.fc1 = nn.Linear(4096, 512) \n",
    "        self.fc2 = nn.Linear(512, TOTAL_CLASSES) \n",
    "    \n",
    "    def forward(self, x):  \n",
    "#         print(x.shape, \"!!\")\n",
    "        x = self.conv1(x)\n",
    "        x = F.relu(x)  \n",
    "        x = self.pool(x) \n",
    "        x = F.dropout(x, p=0.25, training=self.training) \n",
    "\n",
    "        x = self.conv2(x)\n",
    "        x = F.relu(x) \n",
    "        x = self.pool(x) \n",
    "        x = F.dropout(x, p=0.25, training=self.training)\n",
    "\n",
    "        x = self.conv3(x) \n",
    "        x = F.relu(x) \n",
    "#         print(x.shape)\n",
    "        x = self.pool(x)\n",
    "#         print(x.shape)\n",
    "        x = F.dropout(x, p=0.25, training=self.training)\n",
    "\n",
    "#         x = x.view(-1, 4096)  # img size를 미리 계산해둔거라 변형가능하도록 수정\n",
    "        x = x.view(x.size(0), 4096, -1)\n",
    "        x = torch.mean(x, dim=2)\n",
    "        \n",
    "\n",
    "#         print(x.shape, \"x view\")\n",
    "        x = self.fc1(x) \n",
    "        x = F.relu(x) \n",
    "        x = F.dropout(x, p=0.5, training=self.training)\n",
    "        x = self.fc2(x) \n",
    "#         print(x.shape, \"@@\")\n",
    "\n",
    "        return F.log_softmax(x, dim=1)  \n",
    "\n",
    "model_base = Net().to(DEVICE)  \n",
    "optimizer = optim.Adam(model_base.parameters(), lr=0.001) "
   ]
  },
  {
   "cell_type": "markdown",
   "metadata": {},
   "source": [
    "* 모델 학습을 위한 함수"
   ]
  },
  {
   "cell_type": "code",
   "execution_count": 11,
   "metadata": {},
   "outputs": [],
   "source": [
    "def train(model, train_loader, optimizer):\n",
    "    model.train()  \n",
    "    for batch_idx, (data, target) in enumerate(train_loader):\n",
    "        data, target = data.to(DEVICE), target.to(DEVICE) \n",
    "        \n",
    "        \n",
    "        optimizer.zero_grad() \n",
    "        output = model(data)  \n",
    "#         print(data.shape, target.shape, output.shape)\n",
    "        loss = F.cross_entropy(output, target) \n",
    "        loss.backward()  \n",
    "        optimizer.step()  "
   ]
  },
  {
   "cell_type": "markdown",
   "metadata": {},
   "source": [
    "* 모델 평가를 위한 함수"
   ]
  },
  {
   "cell_type": "code",
   "execution_count": 12,
   "metadata": {},
   "outputs": [],
   "source": [
    "def evaluate(model, test_loader):\n",
    "    model.eval()  \n",
    "    test_loss = 0 \n",
    "    correct = 0   \n",
    "    \n",
    "    with torch.no_grad(): \n",
    "        for data, target in test_loader:  \n",
    "            data, target = data.to(DEVICE), target.to(DEVICE)  \n",
    "            output = model(data) \n",
    "            \n",
    "            test_loss += F.cross_entropy(output,target, reduction='sum').item() \n",
    " \n",
    "            \n",
    "            pred = output.max(1, keepdim=True)[1]\n",
    "            correct += pred.eq(target.view_as(pred)).sum().item() \n",
    "   \n",
    "    test_loss /= len(test_loader.dataset) \n",
    "    test_accuracy = 100. * correct / len(test_loader.dataset) \n",
    "    return test_loss, test_accuracy  "
   ]
  },
  {
   "cell_type": "markdown",
   "metadata": {},
   "source": [
    "## 모델 학습 (baseline)"
   ]
  },
  {
   "cell_type": "code",
   "execution_count": null,
   "metadata": {
    "scrolled": false
   },
   "outputs": [],
   "source": [
    "\n",
    "epoch_time_list = list()\n",
    " \n",
    "def train_baseline(model ,train_loader, val_loader, optimizer, num_epochs = 30):\n",
    "    best_acc = 0.0  \n",
    "    best_model_wts = copy.deepcopy(model.state_dict()) \n",
    " \n",
    "    \n",
    "    for epoch in range(1, num_epochs + 1):\n",
    "        since = time.time()  \n",
    "        train(model, train_loader, optimizer)\n",
    "        train_loss, train_acc = evaluate(model, train_loader) \n",
    "        val_loss, val_acc = evaluate(model, val_loader)\n",
    "        \n",
    "        if val_acc > best_acc: \n",
    "            best_acc = val_acc \n",
    "            best_model_wts = copy.deepcopy(model.state_dict())\n",
    "        \n",
    "        time_elapsed = time.time() - since \n",
    "        print('-------------- epoch {} ----------------'.format(epoch))\n",
    "        print('train Loss: {:.4f}, Accuracy: {:.2f}%'.format(train_loss, train_acc))   \n",
    "        print('val Loss: {:.4f}, Accuracy: {:.2f}%'.format(val_loss, val_acc))\n",
    "        print('Completed in {:.0f}m {:.0f}s'.format(time_elapsed // 60, time_elapsed % 60)) \n",
    "        epoch_time_list.append(time_elapsed)\n",
    "    model.load_state_dict(best_model_wts)  \n",
    "    \n",
    "    if epoch == 2:\n",
    "        return model\n",
    "    return model\n",
    " \n",
    "\n",
    "base = train_baseline(model_base, train_loader, val_loader, optimizer, EPOCH)  \t #(16)\n",
    "torch.save(base,'baseline.pt')"
   ]
  },
  {
   "cell_type": "code",
   "execution_count": null,
   "metadata": {},
   "outputs": [],
   "source": [
    "epoch_time_list"
   ]
  },
  {
   "cell_type": "code",
   "execution_count": null,
   "metadata": {},
   "outputs": [],
   "source": [
    "total_time = np.array(epoch_time_list).sum()\n",
    "print('Completed in {:.0f}m {:.0f}s'.format(total_time // 60, total_time % 60))"
   ]
  },
  {
   "cell_type": "markdown",
   "metadata": {},
   "source": [
    "## Transfer Learning 모델 학습"
   ]
  },
  {
   "cell_type": "markdown",
   "metadata": {},
   "source": [
    "* Transfer Learning을 위한 준비"
   ]
  },
  {
   "cell_type": "code",
   "execution_count": 17,
   "metadata": {},
   "outputs": [],
   "source": [
    "data_transforms = {\n",
    "    'train': transforms.Compose([transforms.Resize([IMG_RESIZE, IMG_RESIZE]), \n",
    "        transforms.RandomHorizontalFlip(), transforms.RandomVerticalFlip(),  \n",
    "#         transforms.RandomCrop(52), \n",
    "        transforms.ToTensor(), \n",
    "        transforms.Normalize([0.485, 0.456, 0.406], [0.229, 0.224, 0.225]) ]),\n",
    "    \n",
    "    'val': transforms.Compose([transforms.Resize([IMG_RESIZE, IMG_RESIZE]),  \n",
    "#         transforms.RandomCrop(52), \n",
    "        transforms.ToTensor(),\n",
    "        transforms.Normalize([0.485, 0.456, 0.406], [0.229, 0.224, 0.225]) ])\n",
    "}"
   ]
  },
  {
   "cell_type": "code",
   "execution_count": 18,
   "metadata": {},
   "outputs": [],
   "source": [
    "data_dir = './splitted' \n",
    "image_datasets = {x: ImageFolder(root=os.path.join(data_dir, x), transform=data_transforms[x]) for x in ['train', 'val']} \n",
    "dataloaders = {x: torch.utils.data.DataLoader(image_datasets[x], batch_size=BATCH_SIZE, shuffle=True, num_workers=4) for x in ['train', 'val']} \n",
    "dataset_sizes = {x: len(image_datasets[x]) for x in ['train', 'val']}\n",
    "\n",
    "class_names = image_datasets['train'].classes"
   ]
  },
  {
   "cell_type": "code",
   "execution_count": 19,
   "metadata": {},
   "outputs": [
    {
     "data": {
      "text/plain": [
       "(torch.Size([128, 3, 256, 256]), torch.Size([128]))"
      ]
     },
     "execution_count": 19,
     "metadata": {},
     "output_type": "execute_result"
    }
   ],
   "source": [
    "img, label = next(iter(dataloaders['train']))\n",
    "img.shape, label.shape"
   ]
  },
  {
   "cell_type": "markdown",
   "metadata": {},
   "source": [
    "* Pre-Trained Model 불러오기"
   ]
  },
  {
   "cell_type": "code",
   "execution_count": 20,
   "metadata": {},
   "outputs": [],
   "source": [
    "from torchvision import models\n",
    " \n",
    "resnet = models.resnet50(pretrained=True)  \n",
    "num_ftrs = resnet.fc.in_features   \n",
    "resnet.fc = nn.Linear(num_ftrs, TOTAL_CLASSES) \n",
    "resnet = resnet.to(DEVICE)\n",
    " \n",
    "criterion = nn.CrossEntropyLoss() \n",
    "optimizer_ft = optim.Adam(filter(lambda p: p.requires_grad, resnet.parameters()), lr=0.001)\n",
    " \n",
    "from torch.optim import lr_scheduler\n",
    "exp_lr_scheduler = lr_scheduler.StepLR(optimizer_ft, step_size=7, gamma=0.1) "
   ]
  },
  {
   "cell_type": "markdown",
   "metadata": {},
   "source": [
    "* Pre-Trained Model의 일부 Layer Freeze하기"
   ]
  },
  {
   "cell_type": "code",
   "execution_count": 21,
   "metadata": {},
   "outputs": [],
   "source": [
    "ct = 0 \n",
    "for child in resnet.children():  \n",
    "    ct += 1  \n",
    "    if ct < 6: \n",
    "        for param in child.parameters():\n",
    "            param.requires_grad = False"
   ]
  },
  {
   "cell_type": "markdown",
   "metadata": {},
   "source": [
    "* Transfer Learning 모델 학습과 검증을 위한 함수"
   ]
  },
  {
   "cell_type": "code",
   "execution_count": 25,
   "metadata": {},
   "outputs": [],
   "source": [
    "epoch_time_list2 = list()\n",
    "def train_resnet(model, criterion, optimizer, scheduler, num_epochs=25):\n",
    "\n",
    "    best_model_wts = copy.deepcopy(model.state_dict())  \n",
    "    best_acc = 0.0  \n",
    "    \n",
    "    for epoch in range(num_epochs):\n",
    "        print('-------------- epoch {} ----------------'.format(epoch+1)) \n",
    "        since = time.time()                                     \n",
    "        for phase in ['train', 'val']: \n",
    "            if phase == 'train': \n",
    "                model.train() \n",
    "            else:\n",
    "                model.eval()     \n",
    " \n",
    "            running_loss = 0.0  \n",
    "            running_corrects = 0  \n",
    " \n",
    "            \n",
    "            for inputs, labels in dataloaders[phase]: \n",
    "                inputs = inputs.to(DEVICE)  \n",
    "                labels = labels.to(DEVICE)  \n",
    "                \n",
    "                optimizer.zero_grad() \n",
    "                \n",
    "                with torch.set_grad_enabled(phase == 'train'):  \n",
    "                    outputs = model(inputs)  \n",
    "                    _, preds = torch.max(outputs, 1) \n",
    "                    loss = criterion(outputs, labels)  \n",
    "    \n",
    "                    if phase == 'train':   \n",
    "                        loss.backward()\n",
    "                        optimizer.step()\n",
    " \n",
    "                running_loss += loss.item() * inputs.size(0)  \n",
    "                running_corrects += torch.sum(preds == labels.data)  \n",
    "            if phase == 'train':  \n",
    "                scheduler.step()\n",
    " \n",
    "            epoch_loss = running_loss/dataset_sizes[phase]  \n",
    "            epoch_acc = running_corrects.double()/dataset_sizes[phase]  \n",
    " \n",
    "            print('{} Loss: {:.4f} Acc: {:.4f}'.format(phase, epoch_loss, epoch_acc)) \n",
    " \n",
    "          \n",
    "            if phase == 'val' and epoch_acc > best_acc: \n",
    "                best_acc = epoch_acc\n",
    "                best_model_wts = copy.deepcopy(model.state_dict())\n",
    " \n",
    "        time_elapsed = time.time() - since  \n",
    "        print('Completed in {:.0f}m {:.0f}s'.format(time_elapsed // 60, time_elapsed % 60))\n",
    "        epoch_time_list2.append(time_elapsed)\n",
    "    print('Best val Acc: {:4f}'.format(best_acc))\n",
    " \n",
    "    model.load_state_dict(best_model_wts) \n",
    "\n",
    "    return model"
   ]
  },
  {
   "cell_type": "markdown",
   "metadata": {},
   "source": [
    "* 모델 학습을 실행하기"
   ]
  },
  {
   "cell_type": "code",
   "execution_count": 26,
   "metadata": {},
   "outputs": [
    {
     "name": "stdout",
     "output_type": "stream",
     "text": [
      "-------------- epoch 1 ----------------\n",
      "train Loss: 0.0979 Acc: 0.9687\n",
      "val Loss: 0.1113 Acc: 0.9625\n",
      "Completed in 0m 15s\n",
      "-------------- epoch 2 ----------------\n",
      "train Loss: 0.0668 Acc: 0.9760\n",
      "val Loss: 0.2625 Acc: 0.9255\n",
      "Completed in 0m 16s\n",
      "-------------- epoch 3 ----------------\n",
      "train Loss: 0.0541 Acc: 0.9792\n",
      "val Loss: 0.0337 Acc: 0.9900\n",
      "Completed in 0m 16s\n",
      "-------------- epoch 4 ----------------\n",
      "train Loss: 0.0416 Acc: 0.9872\n",
      "val Loss: 0.1235 Acc: 0.9595\n",
      "Completed in 0m 15s\n",
      "-------------- epoch 5 ----------------\n",
      "train Loss: 0.0369 Acc: 0.9875\n",
      "val Loss: 0.0359 Acc: 0.9875\n",
      "Completed in 0m 15s\n",
      "-------------- epoch 6 ----------------\n",
      "train Loss: 0.0341 Acc: 0.9890\n",
      "val Loss: 0.0881 Acc: 0.9690\n",
      "Completed in 0m 15s\n",
      "-------------- epoch 7 ----------------\n",
      "train Loss: 0.0191 Acc: 0.9930\n",
      "val Loss: 0.0130 Acc: 0.9955\n",
      "Completed in 0m 15s\n",
      "-------------- epoch 8 ----------------\n",
      "train Loss: 0.0044 Acc: 0.9988\n",
      "val Loss: 0.0100 Acc: 0.9960\n",
      "Completed in 0m 15s\n",
      "-------------- epoch 9 ----------------\n",
      "train Loss: 0.0050 Acc: 0.9985\n",
      "val Loss: 0.0092 Acc: 0.9960\n",
      "Completed in 0m 15s\n",
      "-------------- epoch 10 ----------------\n",
      "train Loss: 0.0048 Acc: 0.9987\n",
      "val Loss: 0.0089 Acc: 0.9965\n",
      "Completed in 0m 15s\n",
      "-------------- epoch 11 ----------------\n",
      "train Loss: 0.0033 Acc: 0.9997\n",
      "val Loss: 0.0090 Acc: 0.9970\n",
      "Completed in 0m 15s\n",
      "-------------- epoch 12 ----------------\n",
      "train Loss: 0.0022 Acc: 0.9995\n",
      "val Loss: 0.0069 Acc: 0.9990\n",
      "Completed in 0m 15s\n",
      "-------------- epoch 13 ----------------\n",
      "train Loss: 0.0020 Acc: 0.9998\n",
      "val Loss: 0.0069 Acc: 0.9980\n",
      "Completed in 0m 15s\n",
      "-------------- epoch 14 ----------------\n",
      "train Loss: 0.0016 Acc: 0.9995\n",
      "val Loss: 0.0066 Acc: 0.9980\n",
      "Completed in 0m 15s\n",
      "-------------- epoch 15 ----------------\n",
      "train Loss: 0.0015 Acc: 0.9995\n",
      "val Loss: 0.0062 Acc: 0.9985\n",
      "Completed in 1m 10s\n",
      "-------------- epoch 16 ----------------\n",
      "train Loss: 0.0013 Acc: 1.0000\n",
      "val Loss: 0.0064 Acc: 0.9980\n",
      "Completed in 0m 15s\n",
      "-------------- epoch 17 ----------------\n",
      "train Loss: 0.0014 Acc: 1.0000\n",
      "val Loss: 0.0067 Acc: 0.9980\n",
      "Completed in 0m 15s\n",
      "-------------- epoch 18 ----------------\n",
      "train Loss: 0.0010 Acc: 1.0000\n",
      "val Loss: 0.0064 Acc: 0.9980\n",
      "Completed in 0m 15s\n",
      "-------------- epoch 19 ----------------\n",
      "train Loss: 0.0010 Acc: 1.0000\n",
      "val Loss: 0.0070 Acc: 0.9970\n",
      "Completed in 0m 15s\n",
      "-------------- epoch 20 ----------------\n",
      "train Loss: 0.0012 Acc: 1.0000\n",
      "val Loss: 0.0072 Acc: 0.9970\n",
      "Completed in 0m 15s\n",
      "-------------- epoch 21 ----------------\n",
      "train Loss: 0.0016 Acc: 0.9995\n",
      "val Loss: 0.0073 Acc: 0.9970\n",
      "Completed in 0m 15s\n",
      "-------------- epoch 22 ----------------\n",
      "train Loss: 0.0017 Acc: 0.9998\n",
      "val Loss: 0.0072 Acc: 0.9970\n",
      "Completed in 0m 15s\n",
      "-------------- epoch 23 ----------------\n",
      "train Loss: 0.0016 Acc: 0.9998\n",
      "val Loss: 0.0069 Acc: 0.9975\n",
      "Completed in 0m 15s\n",
      "-------------- epoch 24 ----------------\n",
      "train Loss: 0.0016 Acc: 0.9997\n",
      "val Loss: 0.0076 Acc: 0.9970\n",
      "Completed in 0m 15s\n",
      "-------------- epoch 25 ----------------\n",
      "train Loss: 0.0018 Acc: 0.9998\n",
      "val Loss: 0.0068 Acc: 0.9975\n",
      "Completed in 0m 15s\n",
      "-------------- epoch 26 ----------------\n",
      "train Loss: 0.0010 Acc: 1.0000\n",
      "val Loss: 0.0064 Acc: 0.9985\n",
      "Completed in 0m 15s\n",
      "-------------- epoch 27 ----------------\n",
      "train Loss: 0.0020 Acc: 0.9998\n",
      "val Loss: 0.0061 Acc: 0.9980\n",
      "Completed in 0m 15s\n",
      "-------------- epoch 28 ----------------\n",
      "train Loss: 0.0015 Acc: 0.9997\n",
      "val Loss: 0.0071 Acc: 0.9975\n",
      "Completed in 0m 15s\n",
      "-------------- epoch 29 ----------------\n",
      "train Loss: 0.0014 Acc: 0.9998\n",
      "val Loss: 0.0074 Acc: 0.9980\n",
      "Completed in 0m 15s\n",
      "-------------- epoch 30 ----------------\n",
      "train Loss: 0.0012 Acc: 0.9998\n",
      "val Loss: 0.0065 Acc: 0.9980\n",
      "Completed in 0m 15s\n",
      "Best val Acc: 0.999000\n"
     ]
    }
   ],
   "source": [
    "model_resnet50 = train_resnet(resnet, criterion, optimizer_ft, exp_lr_scheduler, num_epochs=EPOCH) \n",
    "\n",
    "torch.save(model_resnet50, 'resnet50.pt')"
   ]
  },
  {
   "cell_type": "code",
   "execution_count": 28,
   "metadata": {},
   "outputs": [
    {
     "name": "stdout",
     "output_type": "stream",
     "text": [
      "Completed in 8m 25s\n"
     ]
    }
   ],
   "source": [
    "total_time = np.array(epoch_time_list2).sum()\n",
    "print('Completed in {:.0f}m {:.0f}s'.format(total_time // 60, total_time % 60))"
   ]
  },
  {
   "cell_type": "markdown",
   "metadata": {},
   "source": [
    "## 모델 평가"
   ]
  },
  {
   "cell_type": "markdown",
   "metadata": {},
   "source": [
    "* 베이스라인 모델 평가를 위한 전처리하기"
   ]
  },
  {
   "cell_type": "code",
   "execution_count": 29,
   "metadata": {},
   "outputs": [],
   "source": [
    "transform_base = transforms.Compose([transforms.Resize([IMG_RESIZE,IMG_RESIZE]),transforms.ToTensor()])\n",
    "test_base = ImageFolder(root='./splitted/test',transform=transform_base)  \n",
    "test_loader_base = torch.utils.data.DataLoader(test_base, batch_size=BATCH_SIZE, shuffle=True, num_workers=4)"
   ]
  },
  {
   "cell_type": "markdown",
   "metadata": {},
   "source": [
    "* Transfer Learning모델 평가를 위한 전처리하기"
   ]
  },
  {
   "cell_type": "code",
   "execution_count": 30,
   "metadata": {},
   "outputs": [],
   "source": [
    "transform_resNet = transforms.Compose([\n",
    "        transforms.Resize([IMG_RESIZE,IMG_RESIZE]),  \n",
    "#         transforms.RandomCrop(52),  \n",
    "        transforms.ToTensor(),\n",
    "        transforms.Normalize([0.485, 0.456, 0.406], [0.229, 0.224, 0.225]) \n",
    "    ])\n",
    "    \n",
    "test_resNet = ImageFolder(root='./splitted/test', transform=transform_resNet) \n",
    "test_loader_resNet = torch.utils.data.DataLoader(test_resNet, batch_size=BATCH_SIZE, shuffle=True, num_workers=4)"
   ]
  },
  {
   "cell_type": "markdown",
   "metadata": {},
   "source": [
    "* 베이스라인 모델 성능 평가하기"
   ]
  },
  {
   "cell_type": "code",
   "execution_count": 31,
   "metadata": {},
   "outputs": [
    {
     "name": "stdout",
     "output_type": "stream",
     "text": [
      "baseline test acc:   94.25\n"
     ]
    }
   ],
   "source": [
    "baseline=torch.load('baseline.pt') \n",
    "baseline.eval()  \n",
    "test_loss, test_accuracy = evaluate(baseline, test_loader_base)\n",
    "\n",
    "print('baseline test acc:  ', test_accuracy)"
   ]
  },
  {
   "cell_type": "markdown",
   "metadata": {},
   "source": [
    "* Transfer Learning 모델 성능 평가하기"
   ]
  },
  {
   "cell_type": "code",
   "execution_count": 32,
   "metadata": {},
   "outputs": [
    {
     "name": "stdout",
     "output_type": "stream",
     "text": [
      "ResNet test acc:   99.7\n"
     ]
    }
   ],
   "source": [
    "resnet50=torch.load('resnet50.pt') \n",
    "resnet50.eval()  \n",
    "test_loss, test_accuracy = evaluate(resnet50, test_loader_resNet)\n",
    "\n",
    "print('ResNet test acc:  ', test_accuracy)"
   ]
  },
  {
   "cell_type": "code",
   "execution_count": null,
   "metadata": {},
   "outputs": [],
   "source": []
  }
 ],
 "metadata": {
  "kernelspec": {
   "display_name": "Python 3 (ipykernel)",
   "language": "python",
   "name": "python3"
  },
  "language_info": {
   "codemirror_mode": {
    "name": "ipython",
    "version": 3
   },
   "file_extension": ".py",
   "mimetype": "text/x-python",
   "name": "python",
   "nbconvert_exporter": "python",
   "pygments_lexer": "ipython3",
   "version": "3.8.12"
  }
 },
 "nbformat": 4,
 "nbformat_minor": 4
}
