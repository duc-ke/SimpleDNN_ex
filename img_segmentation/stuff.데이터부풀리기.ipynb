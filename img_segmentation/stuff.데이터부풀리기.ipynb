{
 "cells": [
  {
   "cell_type": "code",
   "execution_count": 1,
   "id": "9d1b9273",
   "metadata": {},
   "outputs": [],
   "source": [
    "import os\n",
    "import glob\n",
    "import shutil"
   ]
  },
  {
   "cell_type": "code",
   "execution_count": 11,
   "id": "a6aedd2c",
   "metadata": {},
   "outputs": [],
   "source": [
    "data_dir = './datasets/'\n",
    "\n",
    "# 최종 만들 이미지 갯수 설정\n",
    "want_img_cnt = 1000"
   ]
  },
  {
   "cell_type": "markdown",
   "id": "1b504706",
   "metadata": {},
   "source": [
    "-----------"
   ]
  },
  {
   "cell_type": "code",
   "execution_count": 10,
   "id": "d9c6fe8f",
   "metadata": {},
   "outputs": [
    {
     "data": {
      "text/plain": [
       "{'train': 800, 'val': 100, 'test': 100}"
      ]
     },
     "execution_count": 10,
     "metadata": {},
     "output_type": "execute_result"
    }
   ],
   "source": [
    "# 기존 데이터셋은 8:1:1로 분리됨\n",
    "num_to_create_dict = {\n",
    "    'train': int(1000 * 0.8), \n",
    "    'val': int(1000 * 0.1), \n",
    "    'test': int(1000 * 0.1)\n",
    "}\n",
    "num_to_create_dict"
   ]
  },
  {
   "cell_type": "code",
   "execution_count": 5,
   "id": "11a37f33",
   "metadata": {},
   "outputs": [
    {
     "data": {
      "text/plain": [
       "['./datasets/train', './datasets/val', './datasets/test']"
      ]
     },
     "execution_count": 5,
     "metadata": {},
     "output_type": "execute_result"
    }
   ],
   "source": [
    "three_subdir = ['train', 'val', 'test']\n",
    "data_dirs = [os.path.join(data_dir, each) for each in three_subdir]\n",
    "data_dirs"
   ]
  },
  {
   "cell_type": "code",
   "execution_count": 40,
   "id": "15974bd8",
   "metadata": {},
   "outputs": [
    {
     "name": "stdout",
     "output_type": "stream",
     "text": [
      "./datasets/train dir 완료.. -----\n",
      "./datasets/val dir 완료.. -----\n",
      "./datasets/test dir 완료.. -----\n"
     ]
    }
   ],
   "source": [
    "for each in data_dirs:\n",
    "    all_files = glob.glob(os.path.join(each, \"*\"))\n",
    "    input_list = [ each for each in all_files if \"input_\" in each ]\n",
    "    label_list = [ each for each in all_files if \"label_\" in each ]\n",
    "   \n",
    "\n",
    "    # 첫번 째 이미지만을 복사하겠음\n",
    "    sample_input, sample_label = input_list[0], label_list[0]\n",
    "    target_subdir = each.split('/')[-1]\n",
    "    num_to_create = num_to_create_dict[target_subdir]\n",
    "#     num_to_create -= len(input_list)\n",
    "    for i in range(len(input_list), num_to_create):\n",
    "        basename1 = os.path.basename(sample_input).split('_')[0]\n",
    "        basename2 = os.path.basename(sample_label).split('_')[0]\n",
    "        postfix = f\"_{i:03d}.npy\"    # like _024.npy\n",
    "        new_filen1 = basename1 + postfix\n",
    "        new_filen2 = basename2 + postfix\n",
    "\n",
    "        shutil.copy(sample_input, os.path.join(each, new_filen1))\n",
    "        shutil.copy(sample_label, os.path.join(each, new_filen2))\n",
    "    \n",
    "    print(f\"{each} dir 완료.. -----\")"
   ]
  },
  {
   "cell_type": "code",
   "execution_count": null,
   "id": "6f3ab07b",
   "metadata": {},
   "outputs": [],
   "source": [
    "8:1:1"
   ]
  },
  {
   "cell_type": "code",
   "execution_count": null,
   "id": "e436a113",
   "metadata": {},
   "outputs": [],
   "source": []
  }
 ],
 "metadata": {
  "kernelspec": {
   "display_name": "Python 3 (ipykernel)",
   "language": "python",
   "name": "python3"
  },
  "language_info": {
   "codemirror_mode": {
    "name": "ipython",
    "version": 3
   },
   "file_extension": ".py",
   "mimetype": "text/x-python",
   "name": "python",
   "nbconvert_exporter": "python",
   "pygments_lexer": "ipython3",
   "version": "3.10.8"
  }
 },
 "nbformat": 4,
 "nbformat_minor": 5
}
